{
 "cells": [
  {
   "cell_type": "code",
   "execution_count": 2,
   "id": "5e1290f7-2cb3-42d1-8816-03f6ea9bdde0",
   "metadata": {},
   "outputs": [],
   "source": [
    "#!pip install siphon metpy"
   ]
  },
  {
   "cell_type": "code",
   "execution_count": 3,
   "id": "1ab85f72-5ac2-49e6-bdb1-21bd590096dc",
   "metadata": {},
   "outputs": [],
   "source": [
    "# Import necessary libraries\n",
    "from datetime import datetime\n",
    "import numpy as np\n",
    "from siphon.simplewebservice.wyoming import WyomingUpperAir"
   ]
  },
  {
   "cell_type": "code",
   "execution_count": null,
   "id": "707d928a-6e39-4d32-8f0c-740c15ff6eef",
   "metadata": {},
   "outputs": [],
   "source": [
    "\n",
    "dt = datetime(2024, 9, 30, 12)\n",
    "station = 'BMX'\n",
    "df = WyomingUpperAir.request_data(dt, station)\n",
    "display(df)\n",
    "p = df['pressure'].values\n",
    "t = df['temperature'].values\n",
    "u = df['u_wind'].values\n",
    "v = df['v_wind'].values\n",
    "\n",
    "print(p)\n"
   ]
  },
  {
   "cell_type": "code",
   "execution_count": null,
   "id": "66b77e56-1ddc-4b9f-aafb-4d3d985b8dde",
   "metadata": {},
   "outputs": [],
   "source": []
  },
  {
   "cell_type": "code",
   "execution_count": 15,
   "id": "aa6686da-ecd6-4a69-bcc8-6c4a921ca86c",
   "metadata": {},
   "outputs": [
    {
     "ename": "HTTPError",
     "evalue": "Error accessing http://weather.uwyo.edu/cgi-bin/sounding/?region=naconf&TYPE=TEXT%3ALIST&YEAR=2024&MONTH=10&FROM=0112&TO=0112&STNM=72261\nServer Error (503: Sorry, the server is too busy to process your request.\nPlease try again later.\n)",
     "output_type": "error",
     "traceback": [
      "\u001b[1;31m---------------------------------------------------------------------------\u001b[0m",
      "\u001b[1;31mHTTPError\u001b[0m                                 Traceback (most recent call last)",
      "Cell \u001b[1;32mIn[15], line 32\u001b[0m\n\u001b[0;32m     29\u001b[0m \u001b[38;5;66;03m# Loop through the stations and retrieve data\u001b[39;00m\n\u001b[0;32m     30\u001b[0m \u001b[38;5;28;01mfor\u001b[39;00m location, station \u001b[38;5;129;01min\u001b[39;00m stations\u001b[38;5;241m.\u001b[39mitems():\n\u001b[0;32m     31\u001b[0m     \u001b[38;5;66;03m# Request data\u001b[39;00m\n\u001b[1;32m---> 32\u001b[0m     df \u001b[38;5;241m=\u001b[39m WyomingUpperAir\u001b[38;5;241m.\u001b[39mrequest_data(dt, station)\n\u001b[0;32m     34\u001b[0m     \u001b[38;5;66;03m# Export filtered data to CSV and get the filename and filtered dataframe\u001b[39;00m\n\u001b[0;32m     35\u001b[0m     filename, filtered_df \u001b[38;5;241m=\u001b[39m export_filtered_data(df, location)\n",
      "File \u001b[1;32m~\\anaconda3\\envs\\aes509\\Lib\\site-packages\\siphon\\simplewebservice\\wyoming.py:50\u001b[0m, in \u001b[0;36mWyomingUpperAir.request_data\u001b[1;34m(cls, time, site_id, **kwargs)\u001b[0m\n\u001b[0;32m     30\u001b[0m \u001b[38;5;250m\u001b[39m\u001b[38;5;124mr\u001b[39m\u001b[38;5;124;03m\"\"\"Retrieve upper air observations from the Wyoming archive.\u001b[39;00m\n\u001b[0;32m     31\u001b[0m \n\u001b[0;32m     32\u001b[0m \u001b[38;5;124;03mParameters\u001b[39;00m\n\u001b[1;32m   (...)\u001b[0m\n\u001b[0;32m     47\u001b[0m \n\u001b[0;32m     48\u001b[0m \u001b[38;5;124;03m\"\"\"\u001b[39;00m\n\u001b[0;32m     49\u001b[0m endpoint \u001b[38;5;241m=\u001b[39m \u001b[38;5;28mcls\u001b[39m()\n\u001b[1;32m---> 50\u001b[0m df \u001b[38;5;241m=\u001b[39m endpoint\u001b[38;5;241m.\u001b[39m_get_data(time, site_id)\n\u001b[0;32m     51\u001b[0m \u001b[38;5;28;01mreturn\u001b[39;00m df\n",
      "File \u001b[1;32m~\\anaconda3\\envs\\aes509\\Lib\\site-packages\\siphon\\simplewebservice\\wyoming.py:70\u001b[0m, in \u001b[0;36mWyomingUpperAir._get_data\u001b[1;34m(self, time, site_id)\u001b[0m\n\u001b[0;32m     53\u001b[0m \u001b[38;5;28;01mdef\u001b[39;00m \u001b[38;5;21m_get_data\u001b[39m(\u001b[38;5;28mself\u001b[39m, time, site_id):\n\u001b[0;32m     54\u001b[0m \u001b[38;5;250m    \u001b[39m\u001b[38;5;124mr\u001b[39m\u001b[38;5;124;03m\"\"\"Download and parse upper air observations from an online archive.\u001b[39;00m\n\u001b[0;32m     55\u001b[0m \n\u001b[0;32m     56\u001b[0m \u001b[38;5;124;03m    Parameters\u001b[39;00m\n\u001b[1;32m   (...)\u001b[0m\n\u001b[0;32m     68\u001b[0m \n\u001b[0;32m     69\u001b[0m \u001b[38;5;124;03m    \"\"\"\u001b[39;00m\n\u001b[1;32m---> 70\u001b[0m     raw_data \u001b[38;5;241m=\u001b[39m \u001b[38;5;28mself\u001b[39m\u001b[38;5;241m.\u001b[39m_get_data_raw(time, site_id)\n\u001b[0;32m     71\u001b[0m     soup \u001b[38;5;241m=\u001b[39m BeautifulSoup(raw_data, \u001b[38;5;124m'\u001b[39m\u001b[38;5;124mhtml.parser\u001b[39m\u001b[38;5;124m'\u001b[39m)\n\u001b[0;32m     72\u001b[0m     tabular_data \u001b[38;5;241m=\u001b[39m StringIO(soup\u001b[38;5;241m.\u001b[39mfind_all(\u001b[38;5;124m'\u001b[39m\u001b[38;5;124mpre\u001b[39m\u001b[38;5;124m'\u001b[39m)[\u001b[38;5;241m0\u001b[39m]\u001b[38;5;241m.\u001b[39mcontents[\u001b[38;5;241m0\u001b[39m])\n",
      "File \u001b[1;32m~\\anaconda3\\envs\\aes509\\Lib\\site-packages\\siphon\\simplewebservice\\wyoming.py:144\u001b[0m, in \u001b[0;36mWyomingUpperAir._get_data_raw\u001b[1;34m(self, time, site_id)\u001b[0m\n\u001b[0;32m    126\u001b[0m \u001b[38;5;250m\u001b[39m\u001b[38;5;124;03m\"\"\"Download data from the University of Wyoming's upper air archive.\u001b[39;00m\n\u001b[0;32m    127\u001b[0m \n\u001b[0;32m    128\u001b[0m \u001b[38;5;124;03mParameters\u001b[39;00m\n\u001b[1;32m   (...)\u001b[0m\n\u001b[0;32m    138\u001b[0m \n\u001b[0;32m    139\u001b[0m \u001b[38;5;124;03m\"\"\"\u001b[39;00m\n\u001b[0;32m    140\u001b[0m path \u001b[38;5;241m=\u001b[39m (\u001b[38;5;124m'\u001b[39m\u001b[38;5;124m?region=naconf&TYPE=TEXT\u001b[39m\u001b[38;5;124m%\u001b[39m\u001b[38;5;124m3ALIST\u001b[39m\u001b[38;5;124m'\u001b[39m\n\u001b[0;32m    141\u001b[0m         \u001b[38;5;124m'\u001b[39m\u001b[38;5;124m&YEAR=\u001b[39m\u001b[38;5;124m{\u001b[39m\u001b[38;5;124mtime:\u001b[39m\u001b[38;5;124m%\u001b[39m\u001b[38;5;124mY}&MONTH=\u001b[39m\u001b[38;5;124m{\u001b[39m\u001b[38;5;124mtime:\u001b[39m\u001b[38;5;124m%\u001b[39m\u001b[38;5;124mm}&FROM=\u001b[39m\u001b[38;5;124m{\u001b[39m\u001b[38;5;124mtime:\u001b[39m\u001b[38;5;132;01m%d\u001b[39;00m\u001b[38;5;124m%\u001b[39m\u001b[38;5;124mH}&TO=\u001b[39m\u001b[38;5;124m{\u001b[39m\u001b[38;5;124mtime:\u001b[39m\u001b[38;5;132;01m%d\u001b[39;00m\u001b[38;5;124m%\u001b[39m\u001b[38;5;124mH}\u001b[39m\u001b[38;5;124m'\u001b[39m\n\u001b[0;32m    142\u001b[0m         \u001b[38;5;124m'\u001b[39m\u001b[38;5;124m&STNM=\u001b[39m\u001b[38;5;132;01m{stid}\u001b[39;00m\u001b[38;5;124m'\u001b[39m)\u001b[38;5;241m.\u001b[39mformat(time\u001b[38;5;241m=\u001b[39mtime, stid\u001b[38;5;241m=\u001b[39msite_id)\n\u001b[1;32m--> 144\u001b[0m resp \u001b[38;5;241m=\u001b[39m \u001b[38;5;28mself\u001b[39m\u001b[38;5;241m.\u001b[39mget_path(path)\n\u001b[0;32m    145\u001b[0m \u001b[38;5;66;03m# See if the return is valid, but has no data\u001b[39;00m\n\u001b[0;32m    146\u001b[0m \u001b[38;5;28;01mif\u001b[39;00m resp\u001b[38;5;241m.\u001b[39mtext\u001b[38;5;241m.\u001b[39mfind(\u001b[38;5;124m\"\u001b[39m\u001b[38;5;124mCan\u001b[39m\u001b[38;5;124m'\u001b[39m\u001b[38;5;124mt\u001b[39m\u001b[38;5;124m\"\u001b[39m) \u001b[38;5;241m!=\u001b[39m \u001b[38;5;241m-\u001b[39m\u001b[38;5;241m1\u001b[39m:\n",
      "File \u001b[1;32m~\\anaconda3\\envs\\aes509\\Lib\\site-packages\\siphon\\http_util.py:457\u001b[0m, in \u001b[0;36mHTTPEndPoint.get_path\u001b[1;34m(self, path, query)\u001b[0m\n\u001b[0;32m    434\u001b[0m \u001b[38;5;28;01mdef\u001b[39;00m \u001b[38;5;21mget_path\u001b[39m(\u001b[38;5;28mself\u001b[39m, path, query\u001b[38;5;241m=\u001b[39m\u001b[38;5;28;01mNone\u001b[39;00m):\n\u001b[0;32m    435\u001b[0m \u001b[38;5;250m    \u001b[39m\u001b[38;5;124;03m\"\"\"Make a GET request, optionally including a query, to a relative path.\u001b[39;00m\n\u001b[0;32m    436\u001b[0m \n\u001b[0;32m    437\u001b[0m \u001b[38;5;124;03m    The path of the request includes a path on top of the base URL\u001b[39;00m\n\u001b[1;32m   (...)\u001b[0m\n\u001b[0;32m    455\u001b[0m \n\u001b[0;32m    456\u001b[0m \u001b[38;5;124;03m    \"\"\"\u001b[39;00m\n\u001b[1;32m--> 457\u001b[0m     \u001b[38;5;28;01mreturn\u001b[39;00m \u001b[38;5;28mself\u001b[39m\u001b[38;5;241m.\u001b[39mget(\u001b[38;5;28mself\u001b[39m\u001b[38;5;241m.\u001b[39murl_path(path), query)\n",
      "File \u001b[1;32m~\\anaconda3\\envs\\aes509\\Lib\\site-packages\\siphon\\http_util.py:492\u001b[0m, in \u001b[0;36mHTTPEndPoint.get\u001b[1;34m(self, path, params)\u001b[0m\n\u001b[0;32m    490\u001b[0m     \u001b[38;5;28;01melse\u001b[39;00m:\n\u001b[0;32m    491\u001b[0m         text \u001b[38;5;241m=\u001b[39m resp\u001b[38;5;241m.\u001b[39mtext\n\u001b[1;32m--> 492\u001b[0m     \u001b[38;5;28;01mraise\u001b[39;00m requests\u001b[38;5;241m.\u001b[39mHTTPError(\u001b[38;5;124m'\u001b[39m\u001b[38;5;124mError accessing \u001b[39m\u001b[38;5;132;01m{0}\u001b[39;00m\u001b[38;5;130;01m\\n\u001b[39;00m\u001b[38;5;124m'\u001b[39m\n\u001b[0;32m    493\u001b[0m                              \u001b[38;5;124m'\u001b[39m\u001b[38;5;124mServer Error (\u001b[39m\u001b[38;5;132;01m{1:d}\u001b[39;00m\u001b[38;5;124m: \u001b[39m\u001b[38;5;132;01m{2}\u001b[39;00m\u001b[38;5;124m)\u001b[39m\u001b[38;5;124m'\u001b[39m\u001b[38;5;241m.\u001b[39mformat(resp\u001b[38;5;241m.\u001b[39mrequest\u001b[38;5;241m.\u001b[39murl,\n\u001b[0;32m    494\u001b[0m                                                                 resp\u001b[38;5;241m.\u001b[39mstatus_code,\n\u001b[0;32m    495\u001b[0m                                                                 text))\n\u001b[0;32m    496\u001b[0m \u001b[38;5;28;01mreturn\u001b[39;00m resp\n",
      "\u001b[1;31mHTTPError\u001b[0m: Error accessing http://weather.uwyo.edu/cgi-bin/sounding/?region=naconf&TYPE=TEXT%3ALIST&YEAR=2024&MONTH=10&FROM=0112&TO=0112&STNM=72261\nServer Error (503: Sorry, the server is too busy to process your request.\nPlease try again later.\n)"
     ]
    }
   ],
   "source": [
    "from datetime import datetime\n",
    "import pandas as pd\n",
    "from siphon.simplewebservice.wyoming import WyomingUpperAir\n",
    "\n",
    "# Define the date and time for which you want the data\n",
    "dt = datetime(2024, 10, 1, 12)  # Change the date as per your requirement\n",
    "\n",
    "# List of stations\n",
    "stations = {'Del Rio, Texas': '72261', 'Omaha, Nebraska': '72558', 'International Falls, Minnesota': '72747'}\n",
    "\n",
    "# Function to filter data between 925 hPa and 500 hPa and export to CSV\n",
    "def export_filtered_data(df, location):\n",
    "    # Filter the dataframe for pressures between 925 hPa and 500 hPa\n",
    "    layer_df = df[(df['pressure'] <= 925) & (df['pressure'] >= 500)]\n",
    "    # Export the filtered data to a CSV file\n",
    "    filename = f\"{location.replace(',', '').replace(' ', '_')}_pressure_vs_temperature.csv\"\n",
    "    pressure_and_temperature.to_csv(filename, index=False)\n",
    "    return filename, layer_df\n",
    "\n",
    "# Function to calculate mean temperature using the pressure-weighted formula\n",
    "def calculate_weighted_mean_temperature(layer_df):\n",
    "    # Calculate weighted mean temperature\n",
    "    weighted_sum = (layer_df['pressure'] * layer_df['temperature']).sum()\n",
    "    pressure_sum = layer_df['pressure'].sum()\n",
    "    weighted_mean_temp = weighted_sum / pressure_sum if pressure_sum != 0 else None\n",
    "    return weighted_mean_temp\n",
    "\n",
    "# Loop through the stations and retrieve data\n",
    "for location, station in stations.items():\n",
    "    # Request data\n",
    "    df = WyomingUpperAir.request_data(dt, station)\n",
    "    \n",
    "    # Export filtered data to CSV and get the filename and filtered dataframe\n",
    "    filename, filtered_df = export_filtered_data(df, location)\n",
    "    \n",
    "    # Calculate the pressure-weighted mean temperature\n",
    "    weighted_mean_temp = calculate_weighted_mean_temperature(filtered_df)\n",
    "    \n",
    "    # Print the mean temperature\n",
    "    if weighted_mean_temp is not None:\n",
    "        print(f\"{location}: Weighted Mean Temperature (925-500 hPa) = {weighted_mean_temp:.2f}°C\")\n",
    "    else:\n",
    "        print(f\"{location}: Unable to compute weighted mean temperature due to insufficient data.\")\n"
   ]
  },
  {
   "cell_type": "code",
   "execution_count": null,
   "id": "10d14884-99d3-4029-86dd-e7b7effc022b",
   "metadata": {},
   "outputs": [],
   "source": []
  },
  {
   "cell_type": "code",
   "execution_count": null,
   "id": "1a89c5ef-1c32-412a-abb8-5143c2da99b4",
   "metadata": {},
   "outputs": [],
   "source": []
  },
  {
   "cell_type": "code",
   "execution_count": null,
   "id": "6483b6c9-9bb2-4083-a75b-6aa55fd388a7",
   "metadata": {},
   "outputs": [],
   "source": []
  },
  {
   "cell_type": "code",
   "execution_count": null,
   "id": "786e4a9e-c8fc-4677-ba57-96e9ffca8ee9",
   "metadata": {},
   "outputs": [],
   "source": []
  },
  {
   "cell_type": "code",
   "execution_count": null,
   "id": "491cbec3-32b2-4a49-b792-bdd33437821e",
   "metadata": {},
   "outputs": [],
   "source": []
  }
 ],
 "metadata": {
  "kernelspec": {
   "display_name": "Python 3 (ipykernel)",
   "language": "python",
   "name": "python3"
  },
  "language_info": {
   "codemirror_mode": {
    "name": "ipython",
    "version": 3
   },
   "file_extension": ".py",
   "mimetype": "text/x-python",
   "name": "python",
   "nbconvert_exporter": "python",
   "pygments_lexer": "ipython3",
   "version": "3.12.4"
  }
 },
 "nbformat": 4,
 "nbformat_minor": 5
}
