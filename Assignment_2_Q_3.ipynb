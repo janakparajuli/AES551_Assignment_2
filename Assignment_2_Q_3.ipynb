{
 "cells": [
  {
   "cell_type": "code",
   "execution_count": 2,
   "id": "5e1290f7-2cb3-42d1-8816-03f6ea9bdde0",
   "metadata": {},
   "outputs": [],
   "source": [
    "#!pip install siphon metpy"
   ]
  },
  {
   "cell_type": "code",
   "execution_count": 3,
   "id": "1ab85f72-5ac2-49e6-bdb1-21bd590096dc",
   "metadata": {},
   "outputs": [],
   "source": [
    "# Import necessary libraries\n",
    "from datetime import datetime\n",
    "import numpy as np\n",
    "from siphon.simplewebservice.wyoming import WyomingUpperAir"
   ]
  },
  {
   "cell_type": "code",
   "execution_count": null,
   "id": "707d928a-6e39-4d32-8f0c-740c15ff6eef",
   "metadata": {},
   "outputs": [],
   "source": [
    "\n",
    "dt = datetime(2024, 9, 30, 12)\n",
    "station = 'BMX'\n",
    "df = WyomingUpperAir.request_data(dt, station)\n",
    "display(df)\n",
    "p = df['pressure'].values\n",
    "t = df['temperature'].values\n",
    "u = df['u_wind'].values\n",
    "v = df['v_wind'].values\n",
    "\n",
    "print(p)\n"
   ]
  },
  {
   "cell_type": "code",
   "execution_count": null,
   "id": "66b77e56-1ddc-4b9f-aafb-4d3d985b8dde",
   "metadata": {},
   "outputs": [],
   "source": []
  },
  {
   "cell_type": "code",
   "execution_count": 7,
   "id": "aa6686da-ecd6-4a69-bcc8-6c4a921ca86c",
   "metadata": {},
   "outputs": [
    {
     "name": "stdout",
     "output_type": "stream",
     "text": [
      "Del Rio, Texas: Mean Temperature (925-500 hPa) = 7.85°C\n",
      "Omaha, Nebraska: Mean Temperature (925-500 hPa) = 2.15°C\n",
      "International Falls, Minnesota: Mean Temperature (925-500 hPa) = -10.26°C\n"
     ]
    }
   ],
   "source": [
    "\n",
    "\n",
    "# Define the date and time for which you want the data\n",
    "dt = datetime(2024, 10, 1, 12)  # Change the date as per your requirement\n",
    "\n",
    "# List of stations\n",
    "stations = {'Del Rio, Texas': '72261', 'Omaha, Nebraska': '72558', 'International Falls, Minnesota': '72747'}\n",
    "\n",
    "# Function to calculate mean temperature between 925 hPa and 500 hPa\n",
    "def mean_layer_temperature(df):\n",
    "    # Filter the dataframe for pressures between 925 hPa and 500 hPa\n",
    "    layer_df = df[(df['pressure'] <= 925) & (df['pressure'] >= 500)]\n",
    "    # Calculate the mean temperature of the layer\n",
    "    mean_temp = layer_df['temperature'].mean()\n",
    "    return mean_temp\n",
    "\n",
    "# Dictionary to store the results\n",
    "mean_temperatures = {}\n",
    "\n",
    "# Loop through the stations and retrieve data\n",
    "for location, station in stations.items():\n",
    "    # Request data\n",
    "    df = WyomingUpperAir.request_data(dt, station)\n",
    "    \n",
    "    # Calculate the mean layer temperature\n",
    "    mean_temp = mean_layer_temperature(df)\n",
    "    \n",
    "    # Store the result\n",
    "    mean_temperatures[location] = mean_temp\n",
    "\n",
    "# Display the results\n",
    "for location, mean_temp in mean_temperatures.items():\n",
    "    print(f\"{location}: Mean Temperature (925-500 hPa) = {mean_temp:.2f}°C\")\n"
   ]
  },
  {
   "cell_type": "code",
   "execution_count": null,
   "id": "10d14884-99d3-4029-86dd-e7b7effc022b",
   "metadata": {},
   "outputs": [],
   "source": []
  },
  {
   "cell_type": "code",
   "execution_count": null,
   "id": "1a89c5ef-1c32-412a-abb8-5143c2da99b4",
   "metadata": {},
   "outputs": [],
   "source": []
  },
  {
   "cell_type": "code",
   "execution_count": null,
   "id": "6483b6c9-9bb2-4083-a75b-6aa55fd388a7",
   "metadata": {},
   "outputs": [],
   "source": []
  },
  {
   "cell_type": "code",
   "execution_count": null,
   "id": "786e4a9e-c8fc-4677-ba57-96e9ffca8ee9",
   "metadata": {},
   "outputs": [],
   "source": []
  },
  {
   "cell_type": "code",
   "execution_count": null,
   "id": "491cbec3-32b2-4a49-b792-bdd33437821e",
   "metadata": {},
   "outputs": [],
   "source": []
  }
 ],
 "metadata": {
  "kernelspec": {
   "display_name": "Python 3 (ipykernel)",
   "language": "python",
   "name": "python3"
  },
  "language_info": {
   "codemirror_mode": {
    "name": "ipython",
    "version": 3
   },
   "file_extension": ".py",
   "mimetype": "text/x-python",
   "name": "python",
   "nbconvert_exporter": "python",
   "pygments_lexer": "ipython3",
   "version": "3.12.4"
  }
 },
 "nbformat": 4,
 "nbformat_minor": 5
}
